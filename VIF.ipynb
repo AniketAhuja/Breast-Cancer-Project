{
 "cells": [
  {
   "cell_type": "code",
   "execution_count": null,
   "id": "65f0ff03",
   "metadata": {},
   "outputs": [],
   "source": [
    "data = pd.read_excel(\"df.xlsx\")\n",
    "binary = {'M':1,'B':0}\n",
    "data['diagnosis'] = data['diagnosis'].map(binary)"
   ]
  },
  {
   "cell_type": "code",
   "execution_count": null,
   "id": "7f13f876",
   "metadata": {},
   "outputs": [],
   "source": [
    "y = data['diagnosis']\n",
    "X = data.drop([\"diagnosis\", \"id\"], axis = 1)\n",
    "\n",
    "X_scaled = (X - np.min(X)) / (np.max(X) - np.min(X))\n",
    "X = X_scaled"
   ]
  },
  {
   "cell_type": "code",
   "execution_count": null,
   "id": "31708d5d",
   "metadata": {},
   "outputs": [],
   "source": [
    "# Feature Selection\n",
    "from statsmodels.stats.outliers_influence import variance_inflation_factor\n",
    "import statsmodels.api as sm\n",
    "\n",
    "X = sm.add_constant(X)\n",
    "vif = pd.DataFrame()\n",
    "vif[\"Feature\"] = X.columns\n",
    "vif[\"VIF\"] = [variance_inflation_factor(X.values, i) for i in range(X.shape[1])]\n",
    "\n",
    "print(vif)"
   ]
  },
  {
   "cell_type": "code",
   "execution_count": null,
   "id": "4fe12012",
   "metadata": {},
   "outputs": [],
   "source": [
    "# Feature Selection\n",
    "while vif[\"VIF\"].max() > 7:\n",
    "    max_vif_index = vif[\"VIF\"].idxmax()\n",
    "    X = X.drop(vif.loc[max_vif_index, \"Feature\"], axis=1)\n",
    "    vif = vif.drop(max_vif_index).reset_index(drop=True)\n",
    "    vif[\"VIF\"] = [variance_inflation_factor(X.values, i) for i in range(X.shape[1])]\n",
    "\n",
    "print(vif)"
   ]
  },
  {
   "cell_type": "code",
   "execution_count": null,
   "id": "4a95dc8e",
   "metadata": {},
   "outputs": [],
   "source": [
    "important_features = list(vif[\"Feature\"])"
   ]
  },
  {
   "cell_type": "code",
   "execution_count": null,
   "id": "839bd96f",
   "metadata": {},
   "outputs": [],
   "source": [
    "X_train, X_test, y_train, y_test = train_test_split(X[important_features], y, random_state=2, test_size=0.2, stratify = y)"
   ]
  }
 ],
 "metadata": {
  "kernelspec": {
   "display_name": "Python 3",
   "language": "python",
   "name": "python3"
  },
  "language_info": {
   "codemirror_mode": {
    "name": "ipython",
    "version": 3
   },
   "file_extension": ".py",
   "mimetype": "text/x-python",
   "name": "python",
   "nbconvert_exporter": "python",
   "pygments_lexer": "ipython3",
   "version": "3.8.8"
  }
 },
 "nbformat": 4,
 "nbformat_minor": 5
}
