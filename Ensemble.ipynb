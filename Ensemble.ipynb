{
 "cells": [
  {
   "cell_type": "code",
   "execution_count": 1,
   "id": "fcd3ab5a",
   "metadata": {},
   "outputs": [],
   "source": [
    "import pandas as pd\n",
    "import numpy as np\n",
    "import pandas as pd\n",
    "import numpy as np\n",
    "import matplotlib.pyplot as plt\n",
    "from sklearn.model_selection import train_test_split, GridSearchCV\n",
    "from sklearn.model_selection import cross_val_score,cross_val_predict\n",
    "from sklearn.metrics import accuracy_score, recall_score, confusion_matrix\n",
    "from sklearn.ensemble import AdaBoostClassifier\n",
    "from sklearn.tree import DecisionTreeClassifier\n",
    "\n",
    "\n",
    "import warnings\n",
    "warnings.filterwarnings(\"ignore\")"
   ]
  },
  {
   "cell_type": "code",
   "execution_count": null,
   "id": "fd62afce",
   "metadata": {},
   "outputs": [],
   "source": [
    "# AdaBoost"
   ]
  },
  {
   "cell_type": "code",
   "execution_count": 13,
   "id": "d068e01d",
   "metadata": {},
   "outputs": [],
   "source": [
    "data = pd.read_excel(\"df.xlsx\")\n",
    "binary = {'M':1,'B':0}\n",
    "data['diagnosis'] = data['diagnosis'].map(binary)"
   ]
  },
  {
   "cell_type": "code",
   "execution_count": 14,
   "id": "2e056581",
   "metadata": {},
   "outputs": [],
   "source": [
    "y = data['diagnosis']\n",
    "X = data.drop([\"diagnosis\", \"id\"], axis = 1)\n",
    "\n",
    "X_scaled = (X - np.min(X)) / (np.max(X) - np.min(X))\n",
    "X = X_scaled\n",
    "\n",
    "X_train, X_test, y_train, y_test = train_test_split(X, y, random_state=2, test_size=0.2, stratify = y)"
   ]
  },
  {
   "cell_type": "code",
   "execution_count": 16,
   "id": "e9c809c7",
   "metadata": {},
   "outputs": [
    {
     "name": "stdout",
     "output_type": "stream",
     "text": [
      "0.9285714285714286\n",
      "Adaptive Boosting Tuned Confusion Matrix:\n",
      " [[70  2]\n",
      " [ 3 39]]\n"
     ]
    }
   ],
   "source": [
    "model_ada = AdaBoostClassifier(DecisionTreeClassifier(random_state = 10, max_depth = 3, max_leaf_nodes = 4), n_estimators = 500, learning_rate = 1)\n",
    "\n",
    "model_ada.fit(X_train, y_train)\n",
    "\n",
    "y_pred_ab = model_ada.predict(X_test)\n",
    "\n",
    "print(recall_score(y_test, y_pred_ab))\n",
    "print('Adaptive Boosting Tuned Confusion Matrix:\\n',confusion_matrix(y_test, y_pred_ab))"
   ]
  },
  {
   "cell_type": "code",
   "execution_count": 23,
   "id": "b5d9cae3",
   "metadata": {},
   "outputs": [],
   "source": [
    "# Decision Tree\n",
    "import pandas as pd\n",
    "import numpy as np\n",
    "import seaborn as sns\n",
    "import matplotlib.pyplot as plt\n",
    "from sklearn.metrics import mean_squared_error\n",
    "from sklearn.model_selection import cross_val_score,train_test_split, cross_val_predict\n",
    "from sklearn.metrics import roc_curve, precision_recall_curve, auc, make_scorer, recall_score, accuracy_score, precision_score, confusion_matrix\n",
    "from sklearn.model_selection import StratifiedKFold, KFold\n",
    "from sklearn.tree import DecisionTreeClassifier\n",
    "from sklearn.model_selection import GridSearchCV\n",
    "\n",
    "#Libraries for visualizing trees\n",
    "from sklearn.tree import export_graphviz \n",
    "from six import StringIO\n",
    "from IPython.display import Image  \n",
    "from sklearn import tree\n",
    "import pydotplus\n",
    "\n",
    "import time as time"
   ]
  },
  {
   "cell_type": "code",
   "execution_count": 17,
   "id": "16a70f80",
   "metadata": {},
   "outputs": [],
   "source": [
    "data = pd.read_excel(\"df.xlsx\")\n",
    "data = data.drop('id', axis =1)\n",
    "data.diagnosis = data.diagnosis.eq('M').mul(1)\n",
    "data\n",
    "y = data.diagnosis\n",
    "X = data.drop(\"diagnosis\", axis = 1)\n",
    "X_train, X_test, y_train, y_test = train_test_split(X, y, test_size = 0.2, random_state = 45)"
   ]
  },
  {
   "cell_type": "code",
   "execution_count": 18,
   "id": "9d1b8a7a",
   "metadata": {},
   "outputs": [],
   "source": [
    "decisiontreemodel = DecisionTreeClassifier(random_state=1, max_depth = 6, max_leaf_nodes=3, max_features=2).fit(X_train, y_train)\n"
   ]
  },
  {
   "cell_type": "code",
   "execution_count": 25,
   "id": "ab131e90",
   "metadata": {},
   "outputs": [],
   "source": [
    "# Random Forest\n",
    "import pandas as pd\n",
    "import numpy as np\n",
    "import seaborn as sns\n",
    "import matplotlib.pyplot as plt\n",
    "from sklearn.metrics import mean_squared_error\n",
    "from sklearn.model_selection import cross_val_score,train_test_split\n",
    "from sklearn.metrics import mean_squared_error,r2_score\n",
    "from sklearn.model_selection import KFold\n",
    "from sklearn.model_selection import GridSearchCV, ParameterGrid\n",
    "from sklearn.ensemble import RandomForestClassifier\n",
    "\n",
    "\n",
    "#Libraries for visualizing trees\n",
    "from sklearn.tree import export_graphviz \n",
    "from six import StringIO\n",
    "from IPython.display import Image  \n",
    "import pydotplus\n",
    "import time as tm"
   ]
  },
  {
   "cell_type": "code",
   "execution_count": 31,
   "id": "087401bc",
   "metadata": {},
   "outputs": [],
   "source": [
    "data = pd.read_excel('df.xlsx')\n",
    "data_dummy = pd.get_dummies(data)\n",
    "X = data_dummy.drop(['id', 'diagnosis_B','diagnosis_M'], axis = 1)\n",
    "y = data_dummy['diagnosis_M']\n",
    "\n",
    "X_train, X_test, y_train, y_test = train_test_split(X, y ,test_size=0.3, random_state=45)"
   ]
  },
  {
   "cell_type": "code",
   "execution_count": 32,
   "id": "2c2a3bdc",
   "metadata": {},
   "outputs": [
    {
     "name": "stdout",
     "output_type": "stream",
     "text": [
      "Fitting 5 folds for each of 240 candidates, totalling 1200 fits\n"
     ]
    },
    {
     "data": {
      "text/plain": [
       "GridSearchCV(cv=5, estimator=RandomForestClassifier(random_state=45), n_jobs=-1,\n",
       "             param_grid={'max_depth': range(5, 8), 'max_features': range(8, 12),\n",
       "                         'max_leaf_nodes': range(10, 14),\n",
       "                         'n_estimators': range(20, 25)},\n",
       "             refit='recall', scoring=['accuracy', 'recall'], verbose=True)"
      ]
     },
     "execution_count": 32,
     "metadata": {},
     "output_type": "execute_result"
    }
   ],
   "source": [
    "param_grid = {\n",
    "    'n_estimators': range(20,25,1),\n",
    "    'max_depth': range(5,8,1),\n",
    "    'max_leaf_nodes': range(10,14,1),\n",
    "    'max_features': range(8,12,1)\n",
    "}\n",
    "\n",
    "grid_search = GridSearchCV(RandomForestClassifier(random_state=45), param_grid, scoring=['accuracy','recall'], \n",
    "                           refit=\"recall\", cv=5, n_jobs=-1, verbose = True)\n",
    "grid_search.fit(X_train, y_train)"
   ]
  },
  {
   "cell_type": "code",
   "execution_count": 33,
   "id": "d81e8b44",
   "metadata": {},
   "outputs": [],
   "source": [
    "from sklearn.metrics import roc_curve, precision_recall_curve, auc, make_scorer, recall_score, \\\n",
    "accuracy_score, precision_score, confusion_matrix, mean_squared_error, r2_score"
   ]
  },
  {
   "cell_type": "code",
   "execution_count": 35,
   "id": "e4f26010",
   "metadata": {},
   "outputs": [
    {
     "data": {
      "text/plain": [
       "RandomForestClassifier(max_depth=6, max_features=10, max_leaf_nodes=11,\n",
       "                       n_estimators=21, random_state=45)"
      ]
     },
     "execution_count": 35,
     "metadata": {},
     "output_type": "execute_result"
    }
   ],
   "source": [
    "model_rf = grid_search.best_estimator_\n",
    "feature_importances = np.mean([\n",
    "    tree.feature_importances_ for tree in best_model.estimators_\n",
    "], axis=0)\n",
    "\n",
    "model_rf"
   ]
  },
  {
   "cell_type": "code",
   "execution_count": null,
   "id": "38c03479",
   "metadata": {},
   "outputs": [],
   "source": [
    "#Ensemble"
   ]
  },
  {
   "cell_type": "code",
   "execution_count": 36,
   "id": "61867ba9",
   "metadata": {},
   "outputs": [],
   "source": [
    "import pandas as pd\n",
    "import numpy as np\n",
    "import seaborn as sns\n",
    "import matplotlib.pyplot as plt\n",
    "from sklearn.metrics import mean_squared_error\n",
    "from sklearn.model_selection import cross_val_score,train_test_split, GridSearchCV, ParameterGrid, StratifiedKFold, RandomizedSearchCV\n",
    "from sklearn.metrics import mean_squared_error,r2_score,roc_curve,auc,precision_recall_curve, accuracy_score\n",
    "from sklearn.model_selection import KFold\n",
    "from sklearn.tree import DecisionTreeRegressor,DecisionTreeClassifier\n",
    "from sklearn.ensemble import VotingRegressor, VotingClassifier, StackingRegressor, StackingClassifier, GradientBoostingRegressor,GradientBoostingClassifier, BaggingRegressor,BaggingClassifier,RandomForestRegressor,RandomForestClassifier,AdaBoostRegressor,AdaBoostClassifier\n",
    "from sklearn.linear_model import LinearRegression,LogisticRegression, LassoCV, RidgeCV, ElasticNetCV\n",
    "from sklearn.neighbors import KNeighborsRegressor\n",
    "import itertools as it\n",
    "import time as time\n",
    "import xgboost as xgb\n",
    "from pyearth import Earth"
   ]
  },
  {
   "cell_type": "code",
   "execution_count": 38,
   "id": "cc680eff",
   "metadata": {},
   "outputs": [],
   "source": [
    "data = pd.read_excel(\"df.xlsx\")\n",
    "data = data.drop('id', axis =1)\n",
    "data.diagnosis = data.diagnosis.eq('M').mul(1)\n",
    "data\n",
    "y = data.diagnosis\n",
    "X = data.drop(\"diagnosis\", axis = 1)\n",
    "Xtrain, Xtest, ytrain, ytest = train_test_split(X, y, test_size = 0.2, random_state = 45)"
   ]
  },
  {
   "cell_type": "code",
   "execution_count": null,
   "id": "93636e3e",
   "metadata": {},
   "outputs": [],
   "source": [
    "from sklearn.metrics import make_scorer, recall_score"
   ]
  },
  {
   "cell_type": "code",
   "execution_count": 44,
   "id": "89bd7426",
   "metadata": {},
   "outputs": [
    {
     "data": {
      "text/plain": [
       "0.9824561403508771"
      ]
     },
     "execution_count": 44,
     "metadata": {},
     "output_type": "execute_result"
    }
   ],
   "source": [
    "scorer = make_scorer(recall_score)\n",
    "ensemble_model = StackingClassifier(estimators=[('ada',model_ada),('rf',model_rf),('dt',decisiontreemodel)],\n",
    "                                   final_estimator=RandomForestClassifier(n_estimators=500, max_features=1,\n",
    "                                    random_state=1,oob_score=True),n_jobs=-1,\n",
    "                                   cv = StratifiedKFold(n_splits=5,shuffle=True,random_state=1))\n",
    "ensemble_model.fit(Xtrain,ytrain)\n",
    "ensemble_model.score(Xtest, ytest)"
   ]
  }
 ],
 "metadata": {
  "kernelspec": {
   "display_name": "Python 3 (ipykernel)",
   "language": "python",
   "name": "python3"
  },
  "language_info": {
   "codemirror_mode": {
    "name": "ipython",
    "version": 3
   },
   "file_extension": ".py",
   "mimetype": "text/x-python",
   "name": "python",
   "nbconvert_exporter": "python",
   "pygments_lexer": "ipython3",
   "version": "3.9.12"
  }
 },
 "nbformat": 4,
 "nbformat_minor": 5
}
